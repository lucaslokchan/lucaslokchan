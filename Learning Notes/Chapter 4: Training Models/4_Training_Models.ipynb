{
  "nbformat": 4,
  "nbformat_minor": 0,
  "metadata": {
    "colab": {
      "name": "4.Training Models.ipynb",
      "provenance": [],
      "collapsed_sections": [],
      "authorship_tag": "ABX9TyNVJg+UnrBSXyOVlbV+fhwW"
    },
    "kernelspec": {
      "name": "python3",
      "display_name": "Python 3"
    },
    "language_info": {
      "name": "python"
    }
  },
  "cells": [
    {
      "cell_type": "markdown",
      "metadata": {
        "id": "X4zUwnQINkKN"
      },
      "source": [
        "## Linear Regression"
      ]
    },
    {
      "cell_type": "markdown",
      "metadata": {
        "id": "nzkLFu4ZNmlE"
      },
      "source": [
        "A linear model makes a prediction by simply computing a weighted sum of the input features, plus a constant called the bias term (also called the intercept term)"
      ]
    },
    {
      "cell_type": "markdown",
      "metadata": {
        "id": "JJAmq6wpNqrs"
      },
      "source": [
        "$$\\hat y = \\theta_0 + \\theta_1x_1 + \\theta_2x_2 + \\cdot \\cdot \\cdot + \\theta_nx_n$$"
      ]
    },
    {
      "cell_type": "markdown",
      "metadata": {
        "id": "UptgylTVOSlE"
      },
      "source": [
        "$\\hat y$ is the predicted value"
      ]
    },
    {
      "cell_type": "markdown",
      "metadata": {
        "id": "M1TZpy29Ob1E"
      },
      "source": [
        "$n$ is the number of features"
      ]
    },
    {
      "cell_type": "markdown",
      "metadata": {
        "id": "60uJr-jvOfHk"
      },
      "source": [
        "$x_i$ is the $i^{th}$ feature value"
      ]
    },
    {
      "cell_type": "markdown",
      "metadata": {
        "id": "DMAdXm_yOsLU"
      },
      "source": [
        "$\\theta_j$ is the $j^{th}$ model parameter"
      ]
    },
    {
      "cell_type": "markdown",
      "metadata": {
        "id": "K40M-LUTO70F"
      },
      "source": [
        "This can be written much more concisely using a vectorized form"
      ]
    },
    {
      "cell_type": "markdown",
      "metadata": {
        "id": "a8_wwNzVO8n8"
      },
      "source": [
        "$$\\hat y = h_\\theta(x) = \\theta \\cdot x$$"
      ]
    },
    {
      "cell_type": "markdown",
      "metadata": {
        "id": "qq9GIl4oPSu0"
      },
      "source": [
        "$\\theta$ is the model’s parameter vector, containing the bias term $\\theta_0$ and the feature weights $\\theta_1$ to $\\theta_n$"
      ]
    },
    {
      "cell_type": "markdown",
      "metadata": {
        "id": "x1SbPkclPim8"
      },
      "source": [
        "$x$ is the instance’s feature vector, containing $x_0$ to $x_n$, with $x_0$ always equal to 1"
      ]
    },
    {
      "cell_type": "markdown",
      "metadata": {
        "id": "UMNeC55SPru9"
      },
      "source": [
        "$\\theta \\cdot x$ is the dot product of the vectors $\\theta$ and $x$, which is of course equal to $\\theta_0x_0 + \\theta_1x_1 + \\cdot \\cdot \\cdot + \\theta_nx_n$"
      ]
    },
    {
      "cell_type": "markdown",
      "metadata": {
        "id": "y5h0jl5QQBrd"
      },
      "source": [
        "$h_0$ is the hypothesis function, using the model parameters $\\theta$"
      ]
    },
    {
      "cell_type": "code",
      "metadata": {
        "id": "05aOdQ0UOnnk"
      },
      "source": [
        ""
      ],
      "execution_count": null,
      "outputs": []
    },
    {
      "cell_type": "markdown",
      "metadata": {
        "id": "Lw_q_BYDPqn8"
      },
      "source": [
        ""
      ]
    },
    {
      "cell_type": "code",
      "metadata": {
        "id": "jGjSUbURONBU"
      },
      "source": [
        ""
      ],
      "execution_count": null,
      "outputs": []
    },
    {
      "cell_type": "code",
      "metadata": {
        "id": "Xlz01SBpDrz1"
      },
      "source": [
        ""
      ],
      "execution_count": null,
      "outputs": []
    }
  ]
}